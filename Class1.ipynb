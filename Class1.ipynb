{
 "cells": [
  {
   "attachments": {},
   "cell_type": "markdown",
   "metadata": {},
   "source": [
    "# Downloading and Unpacking Data using Pandas and Advanced Visualization with Matplotlib"
   ]
  },
  {
   "attachments": {},
   "cell_type": "markdown",
   "metadata": {},
   "source": [
    "In this Jupyter Notebook tutorial, our primary objective is to introduce you to the powerful capabilities of **Pandas** and **Matplotlib** libraries. We will learn how to download and unpack data using Pandas, and create visually appealing and insightful plots using Matplotlib.\n",
    "\n",
    "Pandas is an open-source Python library that provides easy-to-use data structures and data analysis tools. It simplifies the process of loading, manipulating, and analyzing data in various formats such as CSV, Excel, and SQL databases.\n",
    "\n",
    "Matplotlib is a popular Python plotting library that allows you to create high-quality graphs, charts, and figures. It offers a wide range of plotting functions and customization options, which help in producing visually informative and aesthetically pleasing visualizations.\n",
    "\n",
    "Throughout this tutorial, we will be working with a sample dataset to demonstrate the various data handling and visualization techniques. By the end of this tutorial, you will have gained the skills to preprocess and explore datasets, as well as create advanced visualizations to better understand the data and derive meaningful insights."
   ]
  },
  {
   "attachments": {},
   "cell_type": "markdown",
   "metadata": {},
   "source": [
    "**Tutorial Plan**\n",
    "1. **Introduction**\n",
    "    * Get acquainted with Pandas and Matplotlib libraries\n",
    "    * Understand the tutorial's objectives and the dataset to be used\n",
    "2. **Setting up the environment**\n",
    "    * Learn to install Pandas and Matplotlib\n",
    "    * Import the necessary libraries\n",
    "3. **Downloading and loading the data**\n",
    "    * Download the dataset in CSV format\n",
    "    * Load the dataset into a Pandas DataFrame\n",
    "    * Display the initial rows of the DataFrame\n",
    "4. **Exploring the dataset**\n",
    "    * Examine the dataset's structure and columns\n",
    "    * Detect missing or incomplete data\n",
    "    * Conduct basic statistical analysis on the dataset\n",
    "5. **Cleaning and preprocessing the data**\n",
    "    * Address missing or incomplete data\n",
    "    * Convert data types, if required\n",
    "    * Modify existing columns or create new ones for enhanced visualization\n",
    "6. **Basic visualizations using Matplotlib**\n",
    "    * Generate a simple line plot\n",
    "    * Create a bar plot\n",
    "    * Construct a histogram\n",
    "7. **Advanced visualizations using Matplotlib**\n",
    "    * Design a scatter plot with custom markers and colors\n",
    "    * Build a box plot to showcase data distribution\n",
    "    * Develop a heatmap or a 2D histogram\n",
    "    * Customize plot elements (e.g., titles, legends, axis labels)\n",
    "8. **Combining visualizations**\n",
    "    * Produce subplots to display multiple plots within a single figure\n",
    "    * Overlay plots to compare distinct aspects of the data\n",
    "9. **Saving visualizations**\n",
    "    * Save visualizations as image files (e.g., PNG, JPEG, SVG)\n",
    "10. **Conclusion**\n",
    "    * Recap the key takeaways from the tutorial\n",
    "    * Recommend additional resources for continued learning"
   ]
  },
  {
   "attachments": {},
   "cell_type": "markdown",
   "metadata": {},
   "source": [
    "## Introduction\n",
    "In this Jupyter Notebook tutorial, we will explore the powerful capabilities of the **Pandas** and **Matplotlib** libraries. We will learn how to download and unpack data using Pandas and create visually appealing and insightful plots using Matplotlib.\n",
    "\n",
    "Pandas is an open-source Python library that provides easy-to-use data structures and data analysis tools. It simplifies the process of loading, manipulating, and analyzing data in various formats, such as CSV, Excel, and SQL databases.\n",
    "\n",
    "Matplotlib is a popular Python plotting library that allows you to create high-quality graphs, charts, and figures. It offers a wide range of plotting functions and customization options, which help in producing visually informative and aesthetically pleasing visualizations.\n",
    "\n",
    "Throughout this tutorial, we will be working with the **Iris dataset**, a popular dataset in the field of machine learning and data science. The Iris dataset consists of 150 samples, each with four features: sepal length, sepal width, petal length, and petal width. The samples belong to three distinct species of the Iris flower: Iris setosa, Iris versicolor, and Iris virginica. We will use this dataset to demonstrate various data handling and visualization techniques. By the end of this tutorial, you will have gained the skills to preprocess and explore datasets, as well as create advanced visualizations to better understand the data and derive meaningful insights.\n",
    "\n",
    "![Iris Dataset](https://s3.amazonaws.com/assets.datacamp.com/blog_assets/Machine+Learning+R/iris-machinelearning.png)"
   ]
  },
  {
   "attachments": {},
   "cell_type": "markdown",
   "metadata": {},
   "source": [
    "# Setting up the environment\n",
    "Before diving into the data handling and visualization, let's first set up our environment. We will install the necessary libraries and import them into our Jupyter Notebook.\n",
    "\n",
    "To install Pandas and Matplotlib, you can use the following pip command:"
   ]
  },
  {
   "cell_type": "code",
   "execution_count": null,
   "metadata": {},
   "outputs": [],
   "source": [
    "!pip install pandas matplotlib seaborn"
   ]
  },
  {
   "attachments": {},
   "cell_type": "markdown",
   "metadata": {},
   "source": [
    "Once the installation is complete, we will import the required libraries and enable inline plotting in Jupyter Notebook."
   ]
  },
  {
   "cell_type": "code",
   "execution_count": null,
   "metadata": {},
   "outputs": [],
   "source": [
    "# Import required libraries\n",
    "import pandas as pd\n",
    "import matplotlib.pyplot as plt\n",
    "\n",
    "\n",
    "# Enable inline plotting in Jupyter Notebook\n",
    "%matplotlib inline"
   ]
  },
  {
   "attachments": {},
   "cell_type": "markdown",
   "metadata": {},
   "source": [
    "## Downloading and loading the data\n",
    "Now that we have our environment set up, let's download the Iris dataset and load it into a Pandas DataFrame. The Iris dataset is available in the UCI Machine Learning Repository as a CSV file. We will use the '**pd.read_csv()**' function to load the dataset into a DataFrame."
   ]
  },
  {
   "cell_type": "code",
   "execution_count": null,
   "metadata": {},
   "outputs": [],
   "source": [
    "# Download the Iris dataset\n",
    "url = \"https://archive.ics.uci.edu/ml/machine-learning-databases/iris/iris.data\"\n",
    "\n",
    "# Column names for the dataset\n",
    "column_names = [\"sepal_length\", \"sepal_width\", \"petal_length\", \"petal_width\", \"species\"]\n",
    "\n",
    "# Read the CSV file and create a Pandas DataFrame\n",
    "iris_df = pd.read_csv(url, header=None, names=column_names)\n",
    "\n",
    "# Display the first few rows of the DataFrame\n",
    "iris_df.head()"
   ]
  },
  {
   "attachments": {},
   "cell_type": "markdown",
   "metadata": {},
   "source": [
    "By executing the code cell above, you should see the first few rows of the Iris dataset displayed in a tabular format."
   ]
  },
  {
   "attachments": {},
   "cell_type": "markdown",
   "metadata": {},
   "source": [
    "## Exploring the dataset\n",
    "Before we start cleaning and preprocessing the data, it is important to explore and understand the dataset. We will examine the dataset's structure, columns, and basic statistical properties."
   ]
  },
  {
   "cell_type": "code",
   "execution_count": null,
   "metadata": {},
   "outputs": [],
   "source": [
    "# Get general information about the DataFrame\n",
    "iris_df.info()"
   ]
  },
  {
   "attachments": {},
   "cell_type": "markdown",
   "metadata": {},
   "source": [
    "The '**info()**' function provides an overview of the DataFrame, including the number of non-null entries and data types for each column. From the output, we can observe that there are no missing values in our dataset, and all columns have the correct data types.\n",
    "\n",
    "Next, let's look at some basic statistical properties of the dataset using the '**describe()**' function.\n",
    "\n"
   ]
  },
  {
   "cell_type": "code",
   "execution_count": null,
   "metadata": {},
   "outputs": [],
   "source": [
    "# Get basic statistics for the dataset\n",
    "iris_df.describe()"
   ]
  },
  {
   "attachments": {},
   "cell_type": "markdown",
   "metadata": {},
   "source": [
    "The '**describe()**' function returns a summary of the central tendency, dispersion, and shape of the dataset's distribution. This information can help us understand the range and distribution of values in each column."
   ]
  },
  {
   "attachments": {},
   "cell_type": "markdown",
   "metadata": {},
   "source": [
    "### Exercise 1\n",
    "Using the Iris dataset, complete the following tasks:\n",
    "\n",
    "    a) Calculate the mean, median, and standard deviation of the sepal_length column.\n",
    "\n",
    "    b) Find the number of unique species in the dataset.\n",
    "\n",
    "    c) Display the rows in the dataset where petal_length is greater than 6 cm."
   ]
  },
  {
   "cell_type": "code",
   "execution_count": null,
   "metadata": {},
   "outputs": [],
   "source": [
    "# Hint: Use the mean(), median(), and std() functions from Pandas.\n",
    "# Example: iris_df['sepal_length'].mean()\n",
    "\n",
    "# a) Calculate the mean, median, and standard deviation of the `sepal_length` column.\n",
    "\n",
    "# b) Find the number of unique species in the dataset.\n",
    "# Hint: Use the unique() or nunique() function from Pandas.\n",
    "# Example: iris_df['species'].nunique()\n",
    "\n",
    "# c) Display the rows in the dataset where `petal_length` is greater than 6 cm.\n",
    "# Hint: Use Boolean indexing to filter the DataFrame.\n",
    "# Example: iris_df[iris_df['petal_length'] > 6]\n"
   ]
  },
  {
   "attachments": {},
   "cell_type": "markdown",
   "metadata": {},
   "source": [
    "## Cleaning and preprocessing the data\n",
    "Our Iris dataset appears to be relatively clean and well-structured. However, in this section, we will briefly discuss some common data cleaning and preprocessing techniques that are useful when working with real-world datasets.\n",
    "\n",
    "1. **Handling missing or incomplete data:** Techniques like dropping rows with missing values, filling missing values with a constant, or using interpolation can be applied using Pandas functions such as '**dropna()**', '**fillna()**', or '**interpolate()**'.\n",
    "\n",
    "2. **Converting data types:** Use the '**astype()**' function to convert the data type of a column if necessary.\n",
    "\n",
    "3. **Creating or modifying columns:** You can create new columns or modify existing ones using arithmetic operations, string manipulation, or applying custom functions.\n",
    "\n",
    "In our case, the dataset is already clean and well-structured, so we will move on to the next section."
   ]
  },
  {
   "attachments": {},
   "cell_type": "markdown",
   "metadata": {},
   "source": [
    "### Exercise 2:\n",
    "Suppose you are given a new dataset with missing values and incorrect data types. Perform the following tasks:\n",
    "\n",
    "    a) Drop the rows with missing values.\n",
    "\n",
    "    b) Convert a column's data type from 'object' to 'float64'.\n",
    "\n",
    "    c) Create a new column called 'sepal_area' by multiplying the sepal_length and sepal_width columns."
   ]
  },
  {
   "cell_type": "code",
   "execution_count": null,
   "metadata": {},
   "outputs": [],
   "source": [
    "# a) Drop the rows with missing values.\n",
    "# Hint: Use the dropna() function from Pandas.\n",
    "# Example: cleaned_df = dataset.dropna()\n",
    "\n",
    "# b) Convert a column's data type from 'object' to 'float64'.\n",
    "# Hint: Use the astype() function from Pandas.\n",
    "# Example: dataset['column_name'] = dataset['column_name'].astype('float64')\n",
    "\n",
    "# c) Create a new column called 'sepal_area' by multiplying the `sepal_length` and `sepal_width` columns.\n",
    "# Example: iris_df['sepal_area'] = iris_df['sepal_length'] * iris_df['sepal_width']\n"
   ]
  },
  {
   "attachments": {},
   "cell_type": "markdown",
   "metadata": {},
   "source": [
    "## Basic visualizations using Matplotlib\n",
    "Now that we have explored our dataset, let's create some basic visualizations using Matplotlib. We will start with a simple line plot, followed by a bar plot and a histogram."
   ]
  },
  {
   "cell_type": "code",
   "execution_count": null,
   "metadata": {},
   "outputs": [],
   "source": [
    "# Line plot of sepal length vs sepal width\n",
    "plt.plot(iris_df['sepal_length'], iris_df['sepal_width'], marker='o', linestyle='')\n",
    "plt.xlabel('Sepal Length (cm)')\n",
    "plt.ylabel('Sepal Width (cm)')\n",
    "plt.title('Sepal Length vs Sepal Width')\n",
    "plt.show()\n",
    "\n",
    "# Bar plot of species counts\n",
    "species_counts = iris_df['species'].value_counts()\n",
    "species_counts.plot(kind='bar')\n",
    "plt.xlabel('Species')\n",
    "plt.ylabel('Count')\n",
    "plt.title('Iris Species Counts')\n",
    "plt.show()\n",
    "\n",
    "# Histogram of petal lengths\n",
    "iris_df['petal_length'].plot(kind='hist', bins=20)\n",
    "plt.xlabel('Petal Length (cm)')\n",
    "plt.ylabel('Frequency')\n",
    "plt.title('Petal Length Distribution')\n",
    "plt.show()"
   ]
  },
  {
   "attachments": {},
   "cell_type": "markdown",
   "metadata": {},
   "source": [
    "The above code will create three different plots: a line plot showing the relationship between sepal length and sepal width, a bar plot displaying the counts of each Iris species, and a histogram illustrating the distribution of petal lengths."
   ]
  },
  {
   "attachments": {},
   "cell_type": "markdown",
   "metadata": {},
   "source": [
    "### Exercise 3: \n",
    "Using the Iris dataset, create the following visualizations:\n",
    "\n",
    "    a) A bar plot showing the average petal width for each species.\n",
    "\n",
    "    b) A histogram of the sepal_length column with 10 bins.\n",
    "\n",
    "    c) A line plot showing the relationship between the index and petal_length values."
   ]
  },
  {
   "cell_type": "code",
   "execution_count": null,
   "metadata": {},
   "outputs": [],
   "source": [
    "# a) A bar plot showing the average petal width for each species.\n",
    "# Hint: Use the groupby() and mean() functions from Pandas, then use the plot() function with kind='bar'.\n",
    "# Example: iris_df.groupby('species')['petal_width'].mean().plot(kind='bar')\n",
    "\n",
    "# b) A histogram of the `sepal_length` column with 10 bins.\n",
    "# Hint: Use the plot() function from Pandas with kind='hist' and specify the bins parameter.\n",
    "# Example: iris_df['sepal_length'].plot(kind='hist', bins\n"
   ]
  },
  {
   "attachments": {},
   "cell_type": "markdown",
   "metadata": {},
   "source": [
    "## Advanced visualizations using Matplotlib\n",
    "In this section, we will create more advanced visualizations using Matplotlib. We will start with a scatter plot, followed by a box plot and a heatmap.\n",
    "\n"
   ]
  },
  {
   "cell_type": "code",
   "execution_count": null,
   "metadata": {},
   "outputs": [],
   "source": [
    "import seaborn as sns\n",
    "\n",
    "# Scatter plot of petal length vs petal width, colored by species\n",
    "sns.scatterplot(x='petal_length', y='petal_width', hue='species', data=iris_df)\n",
    "plt.xlabel('Petal Length (cm)')\n",
    "plt.ylabel('Petal Width (cm)')\n",
    "plt.title('Petal Length vs Petal Width (Colored by Species)')\n",
    "plt.legend(title='Species')\n",
    "plt.show()\n",
    "\n",
    "# Box plot of petal lengths by species\n",
    "iris_df.boxplot(column='petal_length', by='species')\n",
    "plt.ylabel('Petal Length (cm)')\n",
    "plt.title('Petal Lengths by Species')\n",
    "plt.suptitle('')  # Remove the auto-generated title\n",
    "plt.show()\n",
    "\n",
    "# Heatmap of the correlation matrix\n",
    "iris_numeric_df = iris_df.drop(columns=['species'])  # Create a DataFrame without the 'species' column\n",
    "corr_matrix = iris_numeric_df.corr()\n",
    "sns.heatmap(corr_matrix, annot=True, cmap='coolwarm')\n",
    "plt.title('Correlation Matrix Heatmap')\n",
    "plt.show()\n"
   ]
  },
  {
   "attachments": {},
   "cell_type": "markdown",
   "metadata": {},
   "source": [
    "The above code will create a scatter plot of petal length vs petal width colored by species, a box plot comparing petal lengths across species, and a heatmap of the correlation matrix for the dataset's features."
   ]
  },
  {
   "attachments": {},
   "cell_type": "markdown",
   "metadata": {},
   "source": [
    "### Exercise 4:\n",
    "Create the following visualizations using the Iris dataset:\n",
    "\n",
    "    a) A scatter plot of sepal_length vs sepal_width, colored by species.\n",
    "\n",
    "    b) A box plot comparing sepal_width across the three species.\n",
    "\n",
    "    c) A heatmap of the covariance matrix for the dataset's features."
   ]
  },
  {
   "cell_type": "code",
   "execution_count": null,
   "metadata": {},
   "outputs": [],
   "source": [
    "# a) A bar plot showing the average petal width for each species.\n",
    "# Hint: Use the groupby() and mean() functions from Pandas, then use the plot() function with kind='bar'.\n",
    "# Example: iris_df.groupby('species')['petal_width'].mean().plot(kind='bar')\n",
    "\n",
    "# b) A histogram of the `sepal_length` column with 10 bins.\n",
    "# Hint: Use the plot() function from Pandas with kind='hist' and specify the bins parameter.\n",
    "# Example: iris_df['sepal_length'].plot(kind='hist', bins"
   ]
  },
  {
   "attachments": {},
   "cell_type": "markdown",
   "metadata": {},
   "source": [
    "## Combining visualizations\n",
    "In this section, we will learn how to combine multiple visualizations in a single figure. We will create subplots to display the scatter plot and box plot from the previous section side by side."
   ]
  },
  {
   "cell_type": "code",
   "execution_count": null,
   "metadata": {},
   "outputs": [],
   "source": [
    "# Create a figure with two subplots side by side\n",
    "fig, (ax1, ax2) = plt.subplots(nrows=1, ncols=2, figsize=(12, 5))\n",
    "\n",
    "# Scatter plot of petal length vs petal width, colored by species\n",
    "species = iris_df['species']\n",
    "colors = ['red' if species == 'Iris-setosa' else 'green' if species == 'Iris-versicolor' else 'blue' for species in iris_df['species']]\n",
    "ax1.scatter(iris_df['petal_length'], iris_df['petal_width'], c=colors, marker='o')\n",
    "ax1.set_xlabel('Petal Length (cm)')\n",
    "ax1.set_ylabel('Petal Width (cm)')\n",
    "ax1.set_title('Petal Length vs Petal Width (Colored by Species)')\n",
    "legend_elements = [\n",
    "                    plt.Line2D([0], [0], marker='o', color='w', label='Iris-setosa', markerfacecolor='red', markersize=10),\n",
    "                    plt.Line2D([0], [0], marker='o', color='w', label='Iris-versicolor', markerfacecolor='green', markersize=10),\n",
    "                    plt.Line2D([0], [0], marker='o', color='w', label='Iris-virginica', markerfacecolor='blue', markersize=10)\n",
    "                    ]\n",
    "ax1.legend(handles=legend_elements)\n",
    "\n",
    "\n",
    "# Box plot of petal lengths by species\n",
    "iris_df.boxplot(column='petal_length', by='species', ax=ax2)\n",
    "ax2.set_ylabel('Petal Length (cm)')\n",
    "ax2.set_title('Petal Lengths by Species')\n",
    "plt.suptitle('')  # Remove the auto-generated title\n",
    "\n",
    "# Adjust layout and display the combined plots\n",
    "plt.tight_layout()\n",
    "plt.show()"
   ]
  },
  {
   "attachments": {},
   "cell_type": "markdown",
   "metadata": {},
   "source": [
    "The above code creates a single figure with two subplots side by side: the scatter plot and box plot from the previous section."
   ]
  },
  {
   "attachments": {},
   "cell_type": "markdown",
   "metadata": {},
   "source": [
    "### Exercise 5: \n",
    "Combine the scatter plot from Exercise 3a and the box plot from Exercise 3b in a single figure with two subplots side by side."
   ]
  },
  {
   "cell_type": "code",
   "execution_count": null,
   "metadata": {},
   "outputs": [],
   "source": [
    "# Hint: Use plt.subplots() to create a figure with two subplots.\n",
    "# Example:\n",
    "# fig, (ax1, ax2) = plt.subplots(nrows=1, ncols=2, figsize=(12, 5))"
   ]
  },
  {
   "attachments": {},
   "cell_type": "markdown",
   "metadata": {},
   "source": [
    "## Saving visualizations\n",
    "Once you have created the desired visualizations, you may want to save them as image files for use in reports, presentations, or other documents. Matplotlib allows you to save figures in various formats, such as PNG, JPEG, and SVG. In this section, we will demonstrate how to save a figure as a PNG file."
   ]
  },
  {
   "cell_type": "code",
   "execution_count": null,
   "metadata": {},
   "outputs": [],
   "source": [
    "# Scatter plot of petal length vs petal width, colored by species\n",
    "plt.scatter(iris_df['petal_length'], iris_df['petal_width'], c=colors, marker='o')#, label=iris_df['species'])\n",
    "plt.xlabel('Petal Length (cm)')\n",
    "plt.ylabel('Petal Width (cm)')\n",
    "plt.title('Petal Length vs Petal Width (Colored by Species)')\n",
    "plt.legend()\n",
    "\n",
    "# Save the figure as a PNG file\n",
    "plt.savefig('scatter_plot.pdf', dpi=300, bbox_inches='tight', format = 'pdf')\n",
    "\n",
    "# Show the plot\n",
    "plt.show()\n"
   ]
  },
  {
   "attachments": {},
   "cell_type": "markdown",
   "metadata": {},
   "source": [
    "The above code creates a scatter plot and saves it as a PNG file named \"scatter_plot.png\" in the current working directory. The '**dpi**' parameter controls the resolution of the saved image, and '**bbox_inches**' ensures that the entire plot, including labels and legends, is included in the saved image."
   ]
  },
  {
   "attachments": {},
   "cell_type": "markdown",
   "metadata": {},
   "source": [
    "### Exercise 6: \n",
    "Save the combined plot from Exercise 5 as a high-resolution PNG file named \"combined_plot.png\"."
   ]
  },
  {
   "cell_type": "code",
   "execution_count": null,
   "metadata": {},
   "outputs": [],
   "source": [
    "# Save the combined plot from Exercise 5 as a high-resolution PNG file named \"combined_plot.png\".\n",
    "# Hint: Use the savefig() function from Matplotlib and specify the dpi and bbox_inches parameters.\n",
    "# Example: plt.savefig('combined_plot.png', dpi=300, bbox_inches='tight')"
   ]
  },
  {
   "attachments": {},
   "cell_type": "markdown",
   "metadata": {},
   "source": [
    "## Conclusion\n",
    "In this Jupyter Notebook tutorial, we have explored the powerful capabilities of Pandas and Matplotlib libraries. We learned how to download and unpack data using Pandas and create visually appealing and insightful plots using Matplotlib. We worked with the Iris dataset to demonstrate various data handling and visualization techniques, including basic and advanced visualizations, combining visualizations, and saving visualizations as image files.\n",
    "\n",
    "By following this tutorial, you have gained valuable experience in downloading and unpacking data using Pandas, creating advanced visualizations with Matplotlib, and working in a Jupyter Notebook environment. To further enhance your skills, we recommend exploring additional tutorials and resources on data handling, data visualization, and Python programming."
   ]
  },
  {
   "attachments": {},
   "cell_type": "markdown",
   "metadata": {},
   "source": [
    "## Extra Advanced Exercises"
   ]
  },
  {
   "attachments": {},
   "cell_type": "markdown",
   "metadata": {},
   "source": [
    "**Exercise 1:** Pairwise Scatter Plots\n",
    "\n",
    "Create a pairwise scatter plot matrix of all the numeric features in the Iris dataset using Seaborn's '**pairplot()**'function. Make sure to color the points by species."
   ]
  },
  {
   "cell_type": "code",
   "execution_count": null,
   "metadata": {},
   "outputs": [],
   "source": [
    "# Exercise 1: Pairwise Scatter Plots\n",
    "# Hint: Use sns.pairplot() with the hue parameter.\n",
    "# Example: sns.pairplot(iris_df, hue='species')"
   ]
  },
  {
   "attachments": {},
   "cell_type": "markdown",
   "metadata": {},
   "source": [
    "**Exercise 2:** Customizing Plots\n",
    "\n",
    "Enhance the scatter plot created in Exercise 4a of the main exercises by customizing the plot's appearance. Add axis labels, a title, a legend, and modify the color palette.\n"
   ]
  },
  {
   "cell_type": "code",
   "execution_count": null,
   "metadata": {},
   "outputs": [],
   "source": [
    "# Exercise 2: Customizing Plots\n",
    "# Hint: Use the various customization functions in Matplotlib (e.g., plt.xlabel(), plt.title(), etc.)"
   ]
  },
  {
   "attachments": {},
   "cell_type": "markdown",
   "metadata": {},
   "source": [
    "**Exercise 3:** KDE Plot\n",
    "\n",
    "Create a Kernel Density Estimation (KDE) plot of '**petal_length**' and '**petal_width**' using Seaborn's '**kdeplot()**' function, displaying the data as a contour plot.\n",
    "\n"
   ]
  },
  {
   "cell_type": "code",
   "execution_count": null,
   "metadata": {},
   "outputs": [],
   "source": [
    "# Exercise 3: KDE Plot\n",
    "# Hint: Use sns.kdeplot() with the x, y, and data parameters.\n",
    "# Example: sns.kdeplot(x='petal_length', y='petal_width', data=iris_df)"
   ]
  },
  {
   "attachments": {},
   "cell_type": "markdown",
   "metadata": {},
   "source": [
    "**Exercise 4:** 3D Scatter Plot\n",
    "\n",
    "Create a 3D scatter plot of the Iris dataset using '**sepal_length**', '**sepal_width**', and '**petal_length**', and color the points by species. Use the '**Axes3D**' module from '**mpl_toolkits.mplot3d**'."
   ]
  },
  {
   "cell_type": "code",
   "execution_count": null,
   "metadata": {},
   "outputs": [],
   "source": [
    "# Exercise 4: 3D Scatter Plot\n",
    "# Hint: Use mpl_toolkits.mplot3d.Axes3D, and ax.scatter() for creating the 3D scatter plot."
   ]
  },
  {
   "attachments": {},
   "cell_type": "markdown",
   "metadata": {},
   "source": [
    "**Exercise 5:** Interactive Visualizations\n",
    "\n",
    "Explore the Iris dataset using Plotly, a library for creating interactive visualizations. Create a scatter plot matrix and a 3D scatter plot, allowing the user to hover over the points to display information about each data point."
   ]
  },
  {
   "cell_type": "code",
   "execution_count": null,
   "metadata": {},
   "outputs": [],
   "source": [
    "# Exercise 5: Interactive Visualizations\n",
    "# Hint: Use plotly.express (px) library for creating interactive visualizations.\n",
    "# Example for scatter plot matrix: px.scatter_matrix(iris_df, dimensions=['sepal_length', 'sepal_width', 'petal_length', 'petal_width'], color='species')\n",
    "# Example for 3D scatter plot: px.scatter_3d(iris_df, x='sepal_length', y='sepal_width', z='petal_length', color='species', hover_name='species')"
   ]
  },
  {
   "attachments": {},
   "cell_type": "markdown",
   "metadata": {},
   "source": [
    "**Exercise 6:** Violin Plots\n",
    "\n",
    "Create a violin plot for the '**petal_length**' of each species using Seaborn's '**violinplot()**' function."
   ]
  },
  {
   "cell_type": "code",
   "execution_count": null,
   "metadata": {},
   "outputs": [],
   "source": [
    "# Exercise 6: Violin Plots\n",
    "# Hint: Use sns.violinplot() function with the x, y, and data parameters.\n",
    "# Example: sns.violinplot(x='species', y='petal_length', data=iris_df)"
   ]
  },
  {
   "attachments": {},
   "cell_type": "markdown",
   "metadata": {},
   "source": [
    "**Exercise 7:** Stacked Bar Plot\n",
    "\n",
    "Create a stacked bar plot of the average '**sepal_length**' and '**petal_length**' for each species."
   ]
  },
  {
   "cell_type": "code",
   "execution_count": null,
   "metadata": {},
   "outputs": [],
   "source": [
    "# Exercise 7: Stacked Bar Plot\n",
    "# Hint: Use the groupby() and mean() functions from Pandas, then use the plot() function with kind='bar', stacked=True.\n",
    "# Example: iris_df.groupby('species')[['sepal_length', 'petal_length']].mean().plot(kind='bar', stacked=True)"
   ]
  },
  {
   "attachments": {},
   "cell_type": "markdown",
   "metadata": {},
   "source": [
    "**Exercise 8:** Customizing Heatmaps\n",
    "\n",
    "Customize the heatmap created in the \"Advanced visualizations using Matplotlib\" section by changing the colormap, adding a color bar, and modifying the text annotations."
   ]
  },
  {
   "cell_type": "code",
   "execution_count": null,
   "metadata": {},
   "outputs": [],
   "source": [
    "# Exercise 8: Customizing Heatmaps\n",
    "# Hint: Use sns.heatmap() function with additional parameters such as cmap, cbar, and annot_kws.\n",
    "# Example: sns.heatmap(corr_matrix, annot=True, cmap='YlGnBu', cbar_kws={'label': 'Correlation'})"
   ]
  },
  {
   "attachments": {},
   "cell_type": "markdown",
   "metadata": {},
   "source": [
    "**Exercise 9:** Data Transformation\n",
    "\n",
    "Create a new DataFrame with the log-transformed values of '**sepal_length**', '**sepal_width**', '**petal_length**', and '**petal_width**'. Then, plot a histogram of the log-transformed '**sepal_length**'."
   ]
  },
  {
   "cell_type": "code",
   "execution_count": null,
   "metadata": {},
   "outputs": [],
   "source": [
    "# Exercise 9: Data Transformation\n",
    "# Hint: Use np.log() function to transform the data, then plot a histogram of the log-transformed `sepal_length`.\n",
    "# Example: iris_df_log = iris_df[['sepal_length', 'sepal_width', 'petal_length', 'petal_width']].apply(np.log)"
   ]
  },
  {
   "attachments": {},
   "cell_type": "markdown",
   "metadata": {},
   "source": [
    "**Exercise 10:** FacetGrid\n",
    "\n",
    "Use Seaborn's '**FacetGrid()**' function to create a grid of scatter plots of '**sepal_length**' vs. '**sepal_width**' for each species."
   ]
  },
  {
   "cell_type": "code",
   "execution_count": null,
   "metadata": {},
   "outputs": [],
   "source": [
    "# Exercise 10: FacetGrid\n",
    "# Hint: Use sns.FacetGrid() function along with map() method to create a grid of scatter plots.\n",
    "# Example: g = sns.FacetGrid(iris_df, col='species')\n",
    "#          g.map(plt.scatter, 'sepal_length', 'sepal_width')"
   ]
  }
 ],
 "metadata": {
  "kernelspec": {
   "display_name": "Python 3",
   "language": "python",
   "name": "python3"
  },
  "language_info": {
   "codemirror_mode": {
    "name": "ipython",
    "version": 3
   },
   "file_extension": ".py",
   "mimetype": "text/x-python",
   "name": "python",
   "nbconvert_exporter": "python",
   "pygments_lexer": "ipython3",
   "version": "3.9.0"
  },
  "orig_nbformat": 4
 },
 "nbformat": 4,
 "nbformat_minor": 2
}
